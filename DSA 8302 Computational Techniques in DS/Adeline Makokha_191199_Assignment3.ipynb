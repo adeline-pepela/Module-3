{
 "cells": [
  {
   "cell_type": "markdown",
   "id": "70ce898a-8cc9-495b-8413-eb88d2aa4951",
   "metadata": {},
   "source": [
    "### Adeline Makokha\n",
    "### 191199\n",
    "### Computational Techniques for Data Science\n",
    "### Assignment 3\n"
   ]
  },
  {
   "cell_type": "markdown",
   "id": "4dd47c9d-1bc1-45b1-b425-87926ba2ba74",
   "metadata": {},
   "source": [
    "1. Transportation Problem: Optimal Shipping Plan\r\n",
    "A logistics company supplies goods from three warehouses (W1, W2, W3) to four retail\r\n",
    "stores (S1, S2, S3, S4). The transportation cost per unit from each warehouse to each store is\r\n",
    "given in the table below. Each warehouse has a limited supply, and each store has a demand\r\n",
    "requirement. The goal is to minimize the total transportation cost"
   ]
  },
  {
   "cell_type": "code",
   "execution_count": 25,
   "id": "cb1bef12-b421-459a-ba32-bb7e545dfd04",
   "metadata": {},
   "outputs": [],
   "source": [
    "from scipy.optimize import linprog\n",
    "\n",
    "# Objective function coefficients (minimize transportation cost)\n",
    "c = [4, 3, 6, 5, 2, 5, 3, 4, 7, 6, 4, 3]\n"
   ]
  },
  {
   "cell_type": "code",
   "execution_count": 26,
   "id": "84147196-5b84-4070-b7ba-a0b1afa927a2",
   "metadata": {},
   "outputs": [],
   "source": [
    "\n",
    "# Inequality constraints (supply constraints)\n",
    "A_ub = [\n",
    "    [1, 1, 1, 1, 0, 0, 0, 0, 0, 0, 0, 0],  # W1 supply\n",
    "    [0, 0, 0, 0, 1, 1, 1, 1, 0, 0, 0, 0],  # W2 supply\n",
    "    [0, 0, 0, 0, 0, 0, 0, 0, 1, 1, 1, 1]   # W3 supply\n",
    "]\n",
    "b_ub = [250, 300, 400]\n",
    "\n"
   ]
  },
  {
   "cell_type": "code",
   "execution_count": 27,
   "id": "dbfb15a5-5946-45df-84e8-292fd2881e23",
   "metadata": {},
   "outputs": [],
   "source": [
    "# Equality constraints (demand constraints)\n",
    "A_eq = [\n",
    "    [1, 0, 0, 0, 1, 0, 0, 0, 1, 0, 0, 0],  # S1 demand\n",
    "    [0, 1, 0, 0, 0, 1, 0, 0, 0, 1, 0, 0],  # S2 demand\n",
    "    [0, 0, 1, 0, 0, 0, 1, 0, 0, 0, 1, 0],  # S3 demand\n",
    "    [0, 0, 0, 1, 0, 0, 0, 1, 0, 0, 0, 1]   # S4 demand\n",
    "]\n",
    "b_eq = [200, 200, 250, 300]\n",
    "\n",
    "# Bounds for decision variables (non-negativity)\n",
    "bounds = [(0, None) for _ in range(12)]\n",
    "\n"
   ]
  },
  {
   "cell_type": "code",
   "execution_count": 28,
   "id": "f6040200-3bc5-459c-8821-e7afe282ccd8",
   "metadata": {},
   "outputs": [
    {
     "name": "stdout",
     "output_type": "stream",
     "text": [
      "Optimal Shipping Plan:\n",
      "W1 to S1: 50\n",
      "W1 to S2: 200\n",
      "W1 to S3: 0\n",
      "W1 to S4: 0\n",
      "W2 to S1: 150\n",
      "W2 to S2: 0\n",
      "W2 to S3: 150\n",
      "W2 to S4: 0\n",
      "W3 to S1: 0\n",
      "W3 to S2: 0\n",
      "W3 to S3: 100\n",
      "W3 to S4: 300\n",
      "Minimum Transportation Cost: 2850\n"
     ]
    }
   ],
   "source": [
    "# Solve the linear programming problem\n",
    "result = linprog(c, A_ub=A_ub, b_ub=b_ub, A_eq=A_eq, b_eq=b_eq, bounds=bounds, method='highs')\n",
    "\n",
    "# Output\n",
    "print(\"Optimal Shipping Plan:\")\n",
    "print(\"W1 to S1:\", round(result.x[0]))\n",
    "print(\"W1 to S2:\", round(result.x[1]))\n",
    "print(\"W1 to S3:\", round(result.x[2]))\n",
    "print(\"W1 to S4:\", round(result.x[3]))\n",
    "print(\"W2 to S1:\", round(result.x[4]))\n",
    "print(\"W2 to S2:\", round(result.x[5]))\n",
    "print(\"W2 to S3:\", round(result.x[6]))\n",
    "print(\"W2 to S4:\", round(result.x[7]))\n",
    "print(\"W3 to S1:\", round(result.x[8]))\n",
    "print(\"W3 to S2:\", round(result.x[9]))\n",
    "print(\"W3 to S3:\", round(result.x[10]))\n",
    "print(\"W3 to S4:\", round(result.x[11]))\n",
    "print(\"Minimum Transportation Cost:\", round(result.fun))"
   ]
  },
  {
   "cell_type": "markdown",
   "id": "b9abcaa5-a111-4601-9d9f-daee78fed7f6",
   "metadata": {},
   "source": [
    "2. Manufacturing Problem: Maximizing Profit (Product Mix)\r\n",
    "A company produces two types of products (A and B) using two machines (M1 and M2). The\r\n",
    "processing time (in hours per unit) and the profit per unit are given below. The company has a\r\n",
    "limited number of available hours for each machine. The objective is to maximize profit.\r"
   ]
  },
  {
   "cell_type": "code",
   "execution_count": 29,
   "id": "2e74913f-39cb-4148-9ecf-0dd1ec6cf64d",
   "metadata": {},
   "outputs": [],
   "source": [
    "# Objective function coefficients (maximize profit)\n",
    "c = [-50, -80]  # Negative for maximization\n",
    "\n"
   ]
  },
  {
   "cell_type": "code",
   "execution_count": 30,
   "id": "4f42712a-8972-40fe-b64b-bf7ba010e267",
   "metadata": {},
   "outputs": [],
   "source": [
    "# Inequality constraints (machine time constraints)\n",
    "A_ub = [\n",
    "    [3, 5],  # M1 capacity\n",
    "    [2, 4]   # M2 capacity\n",
    "]\n",
    "b_ub = [600, 500]\n",
    "\n",
    "# Bounds for decision variables (non-negativity)\n",
    "bounds = [(0, None), (0, None)]\n",
    "\n"
   ]
  },
  {
   "cell_type": "code",
   "execution_count": 31,
   "id": "de8eb7f7-f98b-4069-9eca-4359c776734a",
   "metadata": {},
   "outputs": [
    {
     "name": "stdout",
     "output_type": "stream",
     "text": [
      "Optimal number of Product A: 200\n",
      "Optimal number of Product B: 0\n",
      "Maximum Profit: 10000\n"
     ]
    }
   ],
   "source": [
    "# Solve the linear programming problem\n",
    "result = linprog(c, A_ub=A_ub, b_ub=b_ub, bounds=bounds, method='highs')\n",
    "\n",
    "# Output\n",
    "print(\"Optimal number of Product A:\", round(result.x[0]))\n",
    "print(\"Optimal number of Product B:\", round(result.x[1]))\n",
    "print(\"Maximum Profit:\", -round(result.fun))"
   ]
  },
  {
   "cell_type": "markdown",
   "id": "23e72b3c-3434-453f-b89f-fe7a706a18d7",
   "metadata": {},
   "source": [
    "3. Manufacturing Problem: Minimizing Production Cost\r\n",
    "A furniture company manufactures chairs and tables. The company has limited resources of\r\n",
    "wood and labor and wants to minimize the total production cost."
   ]
  },
  {
   "cell_type": "code",
   "execution_count": 32,
   "id": "369600c6-00fe-432f-9eb2-3fc47a574951",
   "metadata": {},
   "outputs": [],
   "source": [
    "# Objective function coefficients (minimize cost)\n",
    "c = [30, 50]\n",
    "\n"
   ]
  },
  {
   "cell_type": "code",
   "execution_count": 33,
   "id": "09f0d616-42a3-4504-8693-ef0f37d075fd",
   "metadata": {},
   "outputs": [],
   "source": [
    "# Inequality constraints (resource constraints)\n",
    "A_eq = [[5,8], [2,3]]\n",
    "b_eq = [800, 300]\n",
    "\n"
   ]
  },
  {
   "cell_type": "code",
   "execution_count": 34,
   "id": "c7159f02-02a8-439d-9b3d-255208bb5fce",
   "metadata": {},
   "outputs": [],
   "source": [
    "#Non-negativity constraints\n",
    "bounds = [(0, None), (0, None)]"
   ]
  },
  {
   "cell_type": "code",
   "execution_count": 35,
   "id": "4b191fea-853e-401e-bc2c-c28c01e1ef7a",
   "metadata": {},
   "outputs": [],
   "source": [
    "#solve the LP problem\n",
    "res = linprog(c, A_eq=A_eq, b_eq=b_eq, bounds=bounds, method='highs')"
   ]
  },
  {
   "cell_type": "code",
   "execution_count": 36,
   "id": "1b6ec107-0069-4b31-a2f3-f1e778948f80",
   "metadata": {},
   "outputs": [
    {
     "data": {
      "text/plain": [
       "        message: Optimization terminated successfully. (HiGHS Status 7: Optimal)\n",
       "        success: True\n",
       "         status: 0\n",
       "            fun: -10000.0\n",
       "              x: [ 2.000e+02  0.000e+00]\n",
       "            nit: 1\n",
       "          lower:  residual: [ 2.000e+02  0.000e+00]\n",
       "                 marginals: [ 0.000e+00  3.333e+00]\n",
       "          upper:  residual: [       inf        inf]\n",
       "                 marginals: [ 0.000e+00  0.000e+00]\n",
       "          eqlin:  residual: []\n",
       "                 marginals: []\n",
       "        ineqlin:  residual: [ 0.000e+00  1.000e+02]\n",
       "                 marginals: [-1.667e+01 -0.000e+00]\n",
       " mip_node_count: 0\n",
       " mip_dual_bound: 0.0\n",
       "        mip_gap: 0.0"
      ]
     },
     "execution_count": 36,
     "metadata": {},
     "output_type": "execute_result"
    }
   ],
   "source": [
    "result"
   ]
  },
  {
   "cell_type": "code",
   "execution_count": 37,
   "id": "b77c4084-9ab9-4dd9-95d4-2279fef948e7",
   "metadata": {},
   "outputs": [
    {
     "name": "stdout",
     "output_type": "stream",
     "text": [
      "Optimal solution found\n",
      "Chairs to produce: 200.00\n",
      "Tables to produce: 0.00\n",
      "Minimum Cost: $-10000.00\n"
     ]
    }
   ],
   "source": [
    "#print the results\n",
    "\n",
    "if result.success:\n",
    "    print(\"Optimal solution found\")\n",
    "    print(f\"Chairs to produce: {result.x[0]:.2f}\")\n",
    "    print(f\"Tables to produce: {result.x[1]:.2f}\")\n",
    "    print(f\"Minimum Cost: ${result.fun:.2f}\")\n",
    "else:\n",
    "    print(\"No solution found:\", result.message)"
   ]
  },
  {
   "cell_type": "code",
   "execution_count": null,
   "id": "f33e2e29-1aa2-4e36-97ed-9a96945a8aba",
   "metadata": {},
   "outputs": [],
   "source": []
  }
 ],
 "metadata": {
  "kernelspec": {
   "display_name": "Python 3 (ipykernel)",
   "language": "python",
   "name": "python3"
  },
  "language_info": {
   "codemirror_mode": {
    "name": "ipython",
    "version": 3
   },
   "file_extension": ".py",
   "mimetype": "text/x-python",
   "name": "python",
   "nbconvert_exporter": "python",
   "pygments_lexer": "ipython3",
   "version": "3.11.7"
  }
 },
 "nbformat": 4,
 "nbformat_minor": 5
}
