{
 "cells": [
  {
   "cell_type": "code",
   "execution_count": 1,
   "id": "a089aa49-3545-4d7d-a9b9-9462aedada53",
   "metadata": {},
   "outputs": [],
   "source": [
    "import numpy as np"
   ]
  },
  {
   "cell_type": "code",
   "execution_count": 7,
   "id": "86ef269b-9790-4995-8c9b-556d1880745e",
   "metadata": {},
   "outputs": [],
   "source": [
    "## transition matrix(rows=current state, column=next state)\n",
    "P=np.array([\n",
    "    [0.5, 0.3, 0.2], #Rainy\n",
    "    [0.2, 0.6, 0.2],#cloudy\n",
    "    [0.1, 0.3, 0.6] #sunny\n",
    "])    "
   ]
  },
  {
   "cell_type": "code",
   "execution_count": 10,
   "id": "1c13e0f3-f3f4-4702-8f7d-4b6ceb6278c7",
   "metadata": {},
   "outputs": [
    {
     "name": "stdout",
     "output_type": "stream",
     "text": [
      "Is the matrix Stochastic? True\n"
     ]
    }
   ],
   "source": [
    "##checking stationary\n",
    "def is_stochastic(P):\n",
    "    return np.allclose(P.sum(axis=1),1)\n",
    "print(\"Is the matrix Stochastic?\", is_stochastic(P))    \n",
    "    "
   ]
  },
  {
   "cell_type": "code",
   "execution_count": null,
   "id": "378a8af9-6a66-4d83-a444-06919a555aa1",
   "metadata": {},
   "outputs": [],
   "source": [
    "##Draw\n",
    "import networkx as nx\n",
    "import matplotlib.pyplot as plt\n",
    "G=nx.D1Graph()\n",
    "states=['R','C','S']\n",
    "for i in range(3):\n",
    "    for j in range(3):\n",
    "        if P[i,j] > 0:\n",
    "            G.add_edge(states[i], states[j, weight = P[i,j])\n",
    "            pos=nx.spring_layout(G)\n",
    "            edge_labels=nx.get_edge_attributes(G,'weight')\n",
    "            nx.draw(G, pos\n",
    "        "
   ]
  }
 ],
 "metadata": {
  "kernelspec": {
   "display_name": "Python 3 (ipykernel)",
   "language": "python",
   "name": "python3"
  },
  "language_info": {
   "codemirror_mode": {
    "name": "ipython",
    "version": 3
   },
   "file_extension": ".py",
   "mimetype": "text/x-python",
   "name": "python",
   "nbconvert_exporter": "python",
   "pygments_lexer": "ipython3",
   "version": "3.11.7"
  }
 },
 "nbformat": 4,
 "nbformat_minor": 5
}
