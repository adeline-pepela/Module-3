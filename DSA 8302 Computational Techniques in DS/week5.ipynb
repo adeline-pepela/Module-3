{
 "cells": [
  {
   "cell_type": "code",
   "execution_count": 1,
   "id": "a089aa49-3545-4d7d-a9b9-9462aedada53",
   "metadata": {},
   "outputs": [],
   "source": [
    "import numpy as np"
   ]
  },
  {
   "cell_type": "code",
   "execution_count": null,
   "id": "86ef269b-9790-4995-8c9b-556d1880745e",
   "metadata": {},
   "outputs": [],
   "source": [
    "## transition matrix(rows=current state"
   ]
  }
 ],
 "metadata": {
  "kernelspec": {
   "display_name": "Python 3 (ipykernel)",
   "language": "python",
   "name": "python3"
  },
  "language_info": {
   "codemirror_mode": {
    "name": "ipython",
    "version": 3
   },
   "file_extension": ".py",
   "mimetype": "text/x-python",
   "name": "python",
   "nbconvert_exporter": "python",
   "pygments_lexer": "ipython3",
   "version": "3.11.7"
  }
 },
 "nbformat": 4,
 "nbformat_minor": 5
}
