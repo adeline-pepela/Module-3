{
 "cells": [
  {
   "cell_type": "code",
   "execution_count": 8,
   "id": "85787e11-1f2a-4272-b0ea-72d0e45d67f2",
   "metadata": {},
   "outputs": [
    {
     "name": "stdout",
     "output_type": "stream",
     "text": [
      "[0, 0, 0, 0, 0, 0, 0, 0, 0, 0]\n"
     ]
    }
   ],
   "source": [
    "#fibonacci\n",
    "def fibonacci(n):\n",
    "    sequence =[]\n",
    "    f1, f2=0,1\n",
    "    for _ in range (n):\n",
    "        sequence.append(f1)\n",
    "    return sequence   \n",
    "  \n",
    "print(fibonacci(10))"
   ]
  },
  {
   "cell_type": "code",
   "execution_count": 11,
   "id": "88fde3b8-3668-43f9-9dc0-45ea008ed07a",
   "metadata": {},
   "outputs": [
    {
     "name": "stdout",
     "output_type": "stream",
     "text": [
      "[0, 1, 1, 2, 3, 5, 8, 13, 21, 34, 55, 89, 144]\n"
     ]
    }
   ],
   "source": [
    "def fibonacci_iterative(n):\n",
    "    fibo=[0,1]\n",
    "    for i in range (2,n+1):\n",
    "        fibo.append(fibo[i-1]+fibo[i-2])\n",
    "    return fibo[:n+1]\n",
    "print(fibonacci_iterative(12))"
   ]
  },
  {
   "cell_type": "code",
   "execution_count": 10,
   "id": "1f6372ea-6188-4ad1-914e-d2b972e507a0",
   "metadata": {},
   "outputs": [
    {
     "name": "stdout",
     "output_type": "stream",
     "text": [
      "Fibonacci sequence up to 10 terms:\n",
      "0 1 1 2 3 5 8 13 21 34 "
     ]
    }
   ],
   "source": [
    "def fibonacci(n):\n",
    "    if n <=1:\n",
    "        return n\n",
    "    else:\n",
    "        return fibonacci(n-1) + fibonacci(n-2)\n",
    "print(\"Fibonacci sequence up to 10 terms:\")\n",
    "for i in range(10):\n",
    "    print(fibonacci(i), end=\" \")"
   ]
  },
  {
   "cell_type": "code",
   "execution_count": 14,
   "id": "b53b4298-3199-4c6e-8d3a-86963f89af2c",
   "metadata": {},
   "outputs": [],
   "source": [
    "#LIS\n",
    "def lis_dp(arr):\n",
    "    n=len(arr)\n",
    "    dp=[1]*n\n",
    "    for i in range(n):\n",
    "        for j in range(i):\n",
    "            if arr[i]>arr[j]:\n",
    "                dp[i]=max(dp[i], dp[j]+1)\n",
    "    return max(dp)           "
   ]
  },
  {
   "cell_type": "code",
   "execution_count": 16,
   "id": "645ad04e-79c5-49cb-a122-0c876aae307f",
   "metadata": {},
   "outputs": [],
   "source": [
    "num=[10,9,8,2,1,19,200,108,99,75,87]"
   ]
  },
  {
   "cell_type": "code",
   "execution_count": 19,
   "id": "2fc11d07-ffba-4668-815a-b178b48954c8",
   "metadata": {},
   "outputs": [],
   "source": [
    "topList=lis_dp(num)"
   ]
  },
  {
   "cell_type": "code",
   "execution_count": 21,
   "id": "309d27d2-1c72-4b56-a115-ee55e1d70814",
   "metadata": {},
   "outputs": [
    {
     "data": {
      "text/plain": [
       "4"
      ]
     },
     "execution_count": 21,
     "metadata": {},
     "output_type": "execute_result"
    }
   ],
   "source": [
    "topList"
   ]
  },
  {
   "cell_type": "code",
   "execution_count": 28,
   "id": "eecb981a-cfaa-492d-b56e-2da6c4aa142c",
   "metadata": {},
   "outputs": [],
   "source": [
    "#knapsack problem\n",
    "\n",
    "def knapsack (W, wt, profit,n, memo=None):\n",
    "    if memo is None:\n",
    "        memo={}\n",
    "    if (n,W) in memo:\n",
    "        return memo[(n,W)]\n",
    "    if n==0 or W==0:\n",
    "        return 0\n",
    "    if wt[n-1]>W:\n",
    "        result=knapsack(W,wt,profit,n-1,memo)\n",
    "    else:\n",
    "        result=max(profit[n-1]+knapsack(W-wt[n-1],wt,profit,n-1,memo),\n",
    "                               knapsack(w, wt, profit,n, memo))\n",
    "    memo[(n,W)]=result\n",
    "    return result"
   ]
  },
  {
   "cell_type": "code",
   "execution_count": 29,
   "id": "a21535a0-69cc-497c-ab55-d0cedd61479e",
   "metadata": {},
   "outputs": [],
   "source": [
    "def knapsack(W, wt, profit, n, memo=None):\n",
    "    if memo is None:\n",
    "        memo = {}\n",
    "    \n",
    "    # Check if result is already memoized\n",
    "    if (n, W) in memo:\n",
    "        return memo[(n, W)]\n",
    "    \n",
    "    # Base case\n",
    "    if n == 0 or W == 0:\n",
    "        return 0\n",
    "    \n",
    "    # If weight of nth item is more than capacity W, exclude it\n",
    "    if wt[n - 1] > W:\n",
    "        result = knapsack(W, wt, profit, n - 1, memo)\n",
    "    else:\n",
    "        # Include or exclude the nth item\n",
    "        result = max(\n",
    "            profit[n - 1] + knapsack(W - wt[n - 1], wt, profit, n - 1, memo),\n",
    "            knapsack(W, wt, profit, n - 1, memo)\n",
    "        )\n",
    "    \n",
    "    # Store result in memo\n",
    "    memo[(n, W)] = result\n",
    "    return result\n"
   ]
  },
  {
   "cell_type": "code",
   "execution_count": 30,
   "id": "d2cc6d95-058c-4aff-9c3f-bb196cb5b947",
   "metadata": {},
   "outputs": [
    {
     "name": "stdout",
     "output_type": "stream",
     "text": [
      "220\n"
     ]
    }
   ],
   "source": [
    "print(knapsack(50,[10,20,30,5,6], [60,100,120],3))"
   ]
  },
  {
   "cell_type": "code",
   "execution_count": null,
   "id": "6bfafef5-e615-44f1-b21d-362e40d3ef7a",
   "metadata": {},
   "outputs": [],
   "source": []
  }
 ],
 "metadata": {
  "kernelspec": {
   "display_name": "Python 3 (ipykernel)",
   "language": "python",
   "name": "python3"
  },
  "language_info": {
   "codemirror_mode": {
    "name": "ipython",
    "version": 3
   },
   "file_extension": ".py",
   "mimetype": "text/x-python",
   "name": "python",
   "nbconvert_exporter": "python",
   "pygments_lexer": "ipython3",
   "version": "3.11.7"
  }
 },
 "nbformat": 4,
 "nbformat_minor": 5
}
