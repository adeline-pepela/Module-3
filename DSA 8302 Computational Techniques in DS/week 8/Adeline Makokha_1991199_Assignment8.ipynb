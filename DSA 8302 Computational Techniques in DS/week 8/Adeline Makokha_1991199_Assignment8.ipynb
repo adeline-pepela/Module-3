{
 "cells": [
  {
   "cell_type": "markdown",
   "id": "699e9886-6e9f-4664-90a2-b42459c3fe0a",
   "metadata": {},
   "source": [
    "### Adeline Makokha\n",
    "### 191199\n",
    "### DSA 8302 Computational Techniques for Data Science\n",
    "### Assignment 8"
   ]
  },
  {
   "cell_type": "markdown",
   "id": "51c2dcb9-b7d9-4211-b080-c83ececca619",
   "metadata": {},
   "source": [
    "1. Hospital Department Efficiency\r\n",
    "Question:\r\n",
    "You are analyzing the performance of 4 hospital departments. Each department has a\r\n",
    "different combination of medical staff and beds.\r\n",
    "You want to know: Which department is most efficient in treating patients with limited\r\n",
    "resou\n",
    "rces?\r\n",
    "• Inputs:\r\n",
    "o Doctors: [40, 35, 45, 38]\r\n",
    "o Nurses: [80, 70, 85, 75]\r\n",
    "o Beds: [150, 140, 160, 145]\r\n",
    "• Outputs:\r\n",
    "o Patients treated: [2000, 1900, 2100, 1950]\r\n",
    "o Survival rate: [0.97, 0.96, 0.98, 0.95]\r"
   ]
  },
  {
   "cell_type": "code",
   "execution_count": 1,
   "id": "a69ce026-4080-410d-8805-27598c49b4e9",
   "metadata": {},
   "outputs": [
    {
     "name": "stdout",
     "output_type": "stream",
     "text": [
      "Hospital Departments Data:\n"
     ]
    },
    {
     "data": {
      "text/html": [
       "<div>\n",
       "<style scoped>\n",
       "    .dataframe tbody tr th:only-of-type {\n",
       "        vertical-align: middle;\n",
       "    }\n",
       "\n",
       "    .dataframe tbody tr th {\n",
       "        vertical-align: top;\n",
       "    }\n",
       "\n",
       "    .dataframe thead th {\n",
       "        text-align: right;\n",
       "    }\n",
       "</style>\n",
       "<table border=\"1\" class=\"dataframe\">\n",
       "  <thead>\n",
       "    <tr style=\"text-align: right;\">\n",
       "      <th></th>\n",
       "      <th>Doctors</th>\n",
       "      <th>Nurses</th>\n",
       "      <th>Beds</th>\n",
       "      <th>Patients</th>\n",
       "      <th>SurvivalRate</th>\n",
       "    </tr>\n",
       "  </thead>\n",
       "  <tbody>\n",
       "    <tr>\n",
       "      <th>Dept A</th>\n",
       "      <td>40</td>\n",
       "      <td>80</td>\n",
       "      <td>150</td>\n",
       "      <td>2000</td>\n",
       "      <td>0.97</td>\n",
       "    </tr>\n",
       "    <tr>\n",
       "      <th>Dept B</th>\n",
       "      <td>35</td>\n",
       "      <td>70</td>\n",
       "      <td>140</td>\n",
       "      <td>1900</td>\n",
       "      <td>0.96</td>\n",
       "    </tr>\n",
       "    <tr>\n",
       "      <th>Dept C</th>\n",
       "      <td>45</td>\n",
       "      <td>85</td>\n",
       "      <td>160</td>\n",
       "      <td>2100</td>\n",
       "      <td>0.98</td>\n",
       "    </tr>\n",
       "    <tr>\n",
       "      <th>Dept D</th>\n",
       "      <td>38</td>\n",
       "      <td>75</td>\n",
       "      <td>145</td>\n",
       "      <td>1950</td>\n",
       "      <td>0.95</td>\n",
       "    </tr>\n",
       "  </tbody>\n",
       "</table>\n",
       "</div>"
      ],
      "text/plain": [
       "        Doctors  Nurses  Beds  Patients  SurvivalRate\n",
       "Dept A       40      80   150      2000          0.97\n",
       "Dept B       35      70   140      1900          0.96\n",
       "Dept C       45      85   160      2100          0.98\n",
       "Dept D       38      75   145      1950          0.95"
      ]
     },
     "metadata": {},
     "output_type": "display_data"
    }
   ],
   "source": [
    "# Install pyDEA if not already installed (uncomment if running locally)\n",
    "# !pip install pyDEA\n",
    "\n",
    "import pandas as pd\n",
    "\n",
    "# Define input and output data for 4 hospital departments\n",
    "departments = ['Dept A', 'Dept B', 'Dept C', 'Dept D']\n",
    "inputs = {\n",
    "    'Doctors':  [40, 35, 45, 38],\n",
    "    'Nurses':   [80, 70, 85, 75],\n",
    "    'Beds':     [150, 140, 160, 145]\n",
    "}\n",
    "outputs = {\n",
    "    'Patients':      [2000, 1900, 2100, 1950],\n",
    "    'SurvivalRate':  [0.97, 0.96, 0.98, 0.95]\n",
    "}\n",
    "\n",
    "# Create a DataFrame to organize the data\n",
    "df_hosp = pd.DataFrame(inputs)\n",
    "df_hosp['Patients'] = outputs['Patients']\n",
    "df_hosp['SurvivalRate'] = outputs['SurvivalRate']\n",
    "df_hosp.index = departments\n",
    "print(\"Hospital Departments Data:\")\n",
    "display(df_hosp)\n"
   ]
  },
  {
   "cell_type": "code",
   "execution_count": 3,
   "id": "c04364b8-3f2e-48b0-b52f-54167de45de5",
   "metadata": {},
   "outputs": [
    {
     "ename": "SyntaxError",
     "evalue": "invalid syntax (948395368.py, line 1)",
     "output_type": "error",
     "traceback": [
      "\u001b[1;36m  Cell \u001b[1;32mIn[3], line 1\u001b[1;36m\u001b[0m\n\u001b[1;33m    pyDEA_run -c config.json\u001b[0m\n\u001b[1;37m                 ^\u001b[0m\n\u001b[1;31mSyntaxError\u001b[0m\u001b[1;31m:\u001b[0m invalid syntax\n"
     ]
    }
   ],
   "source": [
    "pyDEA_run -c config.json\n"
   ]
  },
  {
   "cell_type": "code",
   "execution_count": 4,
   "id": "45273e25-4e86-4941-8d72-b72ac652ebaf",
   "metadata": {},
   "outputs": [
    {
     "ename": "ImportError",
     "evalue": "cannot import name 'DEAProblem' from 'pyDEA' (C:\\Users\\PC\\anaconda3\\Lib\\site-packages\\pyDEA\\__init__.py)",
     "output_type": "error",
     "traceback": [
      "\u001b[1;31m---------------------------------------------------------------------------\u001b[0m",
      "\u001b[1;31mImportError\u001b[0m                               Traceback (most recent call last)",
      "Cell \u001b[1;32mIn[4], line 1\u001b[0m\n\u001b[1;32m----> 1\u001b[0m \u001b[38;5;28;01mfrom\u001b[39;00m \u001b[38;5;21;01mpyDEA\u001b[39;00m \u001b[38;5;28;01mimport\u001b[39;00m DEAProblem  \u001b[38;5;66;03m# (Assuming pyDEA provides a DEAProblem class for solving DEA)\u001b[39;00m\n\u001b[0;32m      3\u001b[0m \u001b[38;5;66;03m# Set up the DEA problem for input-oriented analysis\u001b[39;00m\n\u001b[0;32m      4\u001b[0m \u001b[38;5;66;03m# Prepare input and output arrays from the DataFrame\u001b[39;00m\n\u001b[0;32m      5\u001b[0m X \u001b[38;5;241m=\u001b[39m df_hosp[[\u001b[38;5;124m'\u001b[39m\u001b[38;5;124mDoctors\u001b[39m\u001b[38;5;124m'\u001b[39m,\u001b[38;5;124m'\u001b[39m\u001b[38;5;124mNurses\u001b[39m\u001b[38;5;124m'\u001b[39m,\u001b[38;5;124m'\u001b[39m\u001b[38;5;124mBeds\u001b[39m\u001b[38;5;124m'\u001b[39m]]\u001b[38;5;241m.\u001b[39mvalues   \u001b[38;5;66;03m# input matrix\u001b[39;00m\n",
      "\u001b[1;31mImportError\u001b[0m: cannot import name 'DEAProblem' from 'pyDEA' (C:\\Users\\PC\\anaconda3\\Lib\\site-packages\\pyDEA\\__init__.py)"
     ]
    }
   ],
   "source": [
    "from pyDEA import DEAProblem  # (Assuming pyDEA provides a DEAProblem class for solving DEA)\n",
    "\n",
    "# Set up the DEA problem for input-oriented analysis\n",
    "# Prepare input and output arrays from the DataFrame\n",
    "X = df_hosp[['Doctors','Nurses','Beds']].values   # input matrix\n",
    "Y = df_hosp[['Patients','SurvivalRate']].values   # output matrix\n",
    "\n",
    "# Solve CCR (constant returns to scale) input-oriented DEA\n",
    "dea_ccr = DEAProblem(X, Y, orientation='input', returns='CRS')\n",
    "eff_scores_ccr = dea_ccr.solve()  # efficiency scores for each department under CCR\n",
    "\n",
    "# Solve BCC (variable returns to scale) input-oriented DEA\n",
    "dea_bcc = DEAProblem(X, Y, orientation='input', returns='VRS')\n",
    "eff_scores_bcc = dea_bcc.solve()  # efficiency scores for each department under BCC\n",
    "\n",
    "# Organize the efficiency results in a DataFrame for display\n",
    "eff_df = pd.DataFrame({\n",
    "    'Department': departments,\n",
    "    'CCR Efficiency': eff_scores_ccr,\n",
    "    'BCC Efficiency': eff_scores_bcc\n",
    "})\n",
    "eff_df.set_index('Department', inplace=True)\n",
    "print(\"\\nEfficiency Scores (Hospital Departments):\")\n",
    "display(eff_df)\n"
   ]
  },
  {
   "cell_type": "code",
   "execution_count": null,
   "id": "10d0d819-f2ee-4a30-8615-7bbd0ed163ff",
   "metadata": {},
   "outputs": [],
   "source": []
  }
 ],
 "metadata": {
  "kernelspec": {
   "display_name": "Python 3 (ipykernel)",
   "language": "python",
   "name": "python3"
  },
  "language_info": {
   "codemirror_mode": {
    "name": "ipython",
    "version": 3
   },
   "file_extension": ".py",
   "mimetype": "text/x-python",
   "name": "python",
   "nbconvert_exporter": "python",
   "pygments_lexer": "ipython3",
   "version": "3.11.7"
  }
 },
 "nbformat": 4,
 "nbformat_minor": 5
}
