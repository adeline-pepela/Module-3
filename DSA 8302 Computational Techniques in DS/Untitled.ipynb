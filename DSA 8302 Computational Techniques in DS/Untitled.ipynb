{
 "cells": [
  {
   "cell_type": "code",
   "execution_count": 3,
   "id": "c6d816f8-2a47-4425-92bb-fb401cd0baa0",
   "metadata": {},
   "outputs": [],
   "source": [
    "from scipy.optimize import linprog"
   ]
  },
  {
   "cell_type": "code",
   "execution_count": 4,
   "id": "01abb9ab-cd59-4118-92b4-d4fded472595",
   "metadata": {},
   "outputs": [],
   "source": [
    "#objective function \n",
    "c=[-20, -30] #negative for maximization"
   ]
  },
  {
   "cell_type": "code",
   "execution_count": 5,
   "id": "697b386b-3582-4400-99ec-cd3fe06d94c2",
   "metadata": {},
   "outputs": [],
   "source": [
    "#inequalities (constraints)\n",
    "A =[[2,1],[1,2]]\n",
    "b=[100,80]"
   ]
  },
  {
   "cell_type": "code",
   "execution_count": 6,
   "id": "47e5762c-b6f5-447e-90e9-93b5c6fd9e76",
   "metadata": {},
   "outputs": [],
   "source": [
    "x_bounds=(0, None)\n",
    "y_bounds=(0, None)"
   ]
  },
  {
   "cell_type": "code",
   "execution_count": 8,
   "id": "ec15803a-8b9a-4556-9a4f-c8f5c1026a60",
   "metadata": {},
   "outputs": [],
   "source": [
    "#solve the LP problem\n",
    "Result=linprog(c, A_ub=A, b_ub=b, bounds=[x_bounds, y_bounds], method='highs')"
   ]
  },
  {
   "cell_type": "code",
   "execution_count": 9,
   "id": "b082a9cf-2fed-4b24-9f02-7d4164b64596",
   "metadata": {},
   "outputs": [
    {
     "data": {
      "text/plain": [
       "        message: Optimization terminated successfully. (HiGHS Status 7: Optimal)\n",
       "        success: True\n",
       "         status: 0\n",
       "            fun: -1400.0\n",
       "              x: [ 4.000e+01  2.000e+01]\n",
       "            nit: 2\n",
       "          lower:  residual: [ 4.000e+01  2.000e+01]\n",
       "                 marginals: [ 0.000e+00  0.000e+00]\n",
       "          upper:  residual: [       inf        inf]\n",
       "                 marginals: [ 0.000e+00  0.000e+00]\n",
       "          eqlin:  residual: []\n",
       "                 marginals: []\n",
       "        ineqlin:  residual: [ 0.000e+00  0.000e+00]\n",
       "                 marginals: [-3.333e+00 -1.333e+01]\n",
       " mip_node_count: 0\n",
       " mip_dual_bound: 0.0\n",
       "        mip_gap: 0.0"
      ]
     },
     "execution_count": 9,
     "metadata": {},
     "output_type": "execute_result"
    }
   ],
   "source": [
    "Result"
   ]
  },
  {
   "cell_type": "code",
   "execution_count": 10,
   "id": "8308efd4-3539-4675-9a3e-c86c3c34f4a9",
   "metadata": {},
   "outputs": [
    {
     "name": "stdout",
     "output_type": "stream",
     "text": [
      "Optimal number of Product A: 40\n"
     ]
    }
   ],
   "source": [
    "#output\n",
    "print(\"Optimal number of Product A:\", round(Result.x[0]))"
   ]
  },
  {
   "cell_type": "code",
   "execution_count": 11,
   "id": "3b148d7e-4ea1-4aa7-907f-c180e75ed286",
   "metadata": {},
   "outputs": [
    {
     "name": "stdout",
     "output_type": "stream",
     "text": [
      "Optimal number of Product B: 20\n"
     ]
    }
   ],
   "source": [
    "print(\"Optimal number of Product B:\", round(Result.x[1]))"
   ]
  },
  {
   "cell_type": "code",
   "execution_count": 12,
   "id": "2f69fdbf-1e50-4155-b911-0f52c7e92f94",
   "metadata": {},
   "outputs": [
    {
     "name": "stdout",
     "output_type": "stream",
     "text": [
      "Optimal Profit 1400\n"
     ]
    }
   ],
   "source": [
    "print(\"Optimal Profit\", -round(Result.fun))"
   ]
  },
  {
   "cell_type": "markdown",
   "id": "3fb4690a-a292-4a02-9a51-1a55f04b57fa",
   "metadata": {},
   "source": [
    "### question 2"
   ]
  },
  {
   "cell_type": "code",
   "execution_count": 23,
   "id": "898ffe4e-5563-4d2a-a93c-3e8383e35205",
   "metadata": {},
   "outputs": [],
   "source": [
    "#objective function\n",
    "c_min=[4,5,6,3]"
   ]
  },
  {
   "cell_type": "code",
   "execution_count": 24,
   "id": "01b1c618-dc3f-4dbd-a599-9c65b4f46f4b",
   "metadata": {},
   "outputs": [],
   "source": [
    "#constraints\n",
    "A=[[1,1,0,0], #warehouse A capacity\n",
    "   [0,0,1,1], #warehouse B capacity\n",
    "   [1,0,1,0], #market X demand\n",
    "   [0,1,0,1]] #market Y demand\n",
    "b=[70,50,60,50]"
   ]
  },
  {
   "cell_type": "code",
   "execution_count": 25,
   "id": "d433747e-4ffc-4d89-aec1-97a48408252e",
   "metadata": {},
   "outputs": [],
   "source": [
    "Result_Min=linprog(c_min,A_eq=A, b_eq=b, bounds=(0, None), method='highs')"
   ]
  },
  {
   "cell_type": "code",
   "execution_count": 26,
   "id": "6bf385dd-92e1-4950-af1e-3763c913244d",
   "metadata": {},
   "outputs": [
    {
     "ename": "TypeError",
     "evalue": "type NoneType doesn't define __round__ method",
     "output_type": "error",
     "traceback": [
      "\u001b[1;31m---------------------------------------------------------------------------\u001b[0m",
      "\u001b[1;31mTypeError\u001b[0m                                 Traceback (most recent call last)",
      "Cell \u001b[1;32mIn[26], line 1\u001b[0m\n\u001b[1;32m----> 1\u001b[0m \u001b[38;5;28mprint\u001b[39m(\u001b[38;5;124m\"\u001b[39m\u001b[38;5;124mMinimum Transport Cost:\u001b[39m\u001b[38;5;124m\"\u001b[39m, \u001b[38;5;28mround\u001b[39m(Result_Min\u001b[38;5;241m.\u001b[39mfun))\n",
      "\u001b[1;31mTypeError\u001b[0m: type NoneType doesn't define __round__ method"
     ]
    }
   ],
   "source": [
    "print(\"Minimum Transport Cost:\", round(Result_Min.fun))"
   ]
  },
  {
   "cell_type": "code",
   "execution_count": 30,
   "id": "c6405aed-a00c-46c6-a5f5-7800211491e8",
   "metadata": {},
   "outputs": [],
   "source": [
    "# objective function\n",
    "c_opt=[3,5]"
   ]
  },
  {
   "cell_type": "code",
   "execution_count": 31,
   "id": "8a200ecf-3f0d-4a00-8e78-81053184d03f",
   "metadata": {},
   "outputs": [],
   "source": [
    "#constraints\n",
    "[[-500, -700], #calories constraint\n",
    " [-30,-20]] #protein constraint\n",
    "b=[-2000,-50]"
   ]
  },
  {
   "cell_type": "code",
   "execution_count": 35,
   "id": "5339aae1-bc01-4cb9-96fe-e2704ccf8dae",
   "metadata": {},
   "outputs": [
    {
     "ename": "ValueError",
     "evalue": "Invalid input for linprog: A_ub must have exactly two dimensions, and the number of columns in A_ub must be equal to the size of c",
     "output_type": "error",
     "traceback": [
      "\u001b[1;31m---------------------------------------------------------------------------\u001b[0m",
      "\u001b[1;31mValueError\u001b[0m                                Traceback (most recent call last)",
      "Cell \u001b[1;32mIn[35], line 2\u001b[0m\n\u001b[0;32m      1\u001b[0m \u001b[38;5;66;03m#solve the problem\u001b[39;00m\n\u001b[1;32m----> 2\u001b[0m Result_opt\u001b[38;5;241m=\u001b[39mlinprog(c_opt, A_ub\u001b[38;5;241m=\u001b[39mA, b_ub\u001b[38;5;241m=\u001b[39mb, bounds\u001b[38;5;241m=\u001b[39m(\u001b[38;5;241m0\u001b[39m, \u001b[38;5;28;01mNone\u001b[39;00m), method\u001b[38;5;241m=\u001b[39m\u001b[38;5;124m'\u001b[39m\u001b[38;5;124mhighs\u001b[39m\u001b[38;5;124m'\u001b[39m)\n",
      "File \u001b[1;32m~\\anaconda3\\Lib\\site-packages\\scipy\\optimize\\_linprog.py:628\u001b[0m, in \u001b[0;36mlinprog\u001b[1;34m(c, A_ub, b_ub, A_eq, b_eq, bounds, method, callback, options, x0, integrality)\u001b[0m\n\u001b[0;32m    625\u001b[0m     integrality \u001b[38;5;241m=\u001b[39m np\u001b[38;5;241m.\u001b[39mbroadcast_to(integrality, np\u001b[38;5;241m.\u001b[39mshape(c))\n\u001b[0;32m    627\u001b[0m lp \u001b[38;5;241m=\u001b[39m _LPProblem(c, A_ub, b_ub, A_eq, b_eq, bounds, x0, integrality)\n\u001b[1;32m--> 628\u001b[0m lp, solver_options \u001b[38;5;241m=\u001b[39m _parse_linprog(lp, options, meth)\n\u001b[0;32m    629\u001b[0m tol \u001b[38;5;241m=\u001b[39m solver_options\u001b[38;5;241m.\u001b[39mget(\u001b[38;5;124m'\u001b[39m\u001b[38;5;124mtol\u001b[39m\u001b[38;5;124m'\u001b[39m, \u001b[38;5;241m1e-9\u001b[39m)\n\u001b[0;32m    631\u001b[0m \u001b[38;5;66;03m# Give unmodified problem to HiGHS\u001b[39;00m\n",
      "File \u001b[1;32m~\\anaconda3\\Lib\\site-packages\\scipy\\optimize\\_linprog_util.py:1026\u001b[0m, in \u001b[0;36m_parse_linprog\u001b[1;34m(lp, options, meth)\u001b[0m\n\u001b[0;32m   1023\u001b[0m solver_options, A_ub, A_eq \u001b[38;5;241m=\u001b[39m _check_sparse_inputs(solver_options, meth,\n\u001b[0;32m   1024\u001b[0m                                                   lp\u001b[38;5;241m.\u001b[39mA_ub, lp\u001b[38;5;241m.\u001b[39mA_eq)\n\u001b[0;32m   1025\u001b[0m \u001b[38;5;66;03m# Convert lists to numpy arrays, etc...\u001b[39;00m\n\u001b[1;32m-> 1026\u001b[0m lp \u001b[38;5;241m=\u001b[39m _clean_inputs(lp\u001b[38;5;241m.\u001b[39m_replace(A_ub\u001b[38;5;241m=\u001b[39mA_ub, A_eq\u001b[38;5;241m=\u001b[39mA_eq))\n\u001b[0;32m   1027\u001b[0m \u001b[38;5;28;01mreturn\u001b[39;00m lp, solver_options\n",
      "File \u001b[1;32m~\\anaconda3\\Lib\\site-packages\\scipy\\optimize\\_linprog_util.py:320\u001b[0m, in \u001b[0;36m_clean_inputs\u001b[1;34m(lp)\u001b[0m\n\u001b[0;32m    318\u001b[0m n_ub \u001b[38;5;241m=\u001b[39m A_ub\u001b[38;5;241m.\u001b[39mshape[\u001b[38;5;241m0\u001b[39m]\n\u001b[0;32m    319\u001b[0m \u001b[38;5;28;01mif\u001b[39;00m \u001b[38;5;28mlen\u001b[39m(A_ub\u001b[38;5;241m.\u001b[39mshape) \u001b[38;5;241m!=\u001b[39m \u001b[38;5;241m2\u001b[39m \u001b[38;5;129;01mor\u001b[39;00m A_ub\u001b[38;5;241m.\u001b[39mshape[\u001b[38;5;241m1\u001b[39m] \u001b[38;5;241m!=\u001b[39m n_x:\n\u001b[1;32m--> 320\u001b[0m     \u001b[38;5;28;01mraise\u001b[39;00m \u001b[38;5;167;01mValueError\u001b[39;00m(\n\u001b[0;32m    321\u001b[0m         \u001b[38;5;124m\"\u001b[39m\u001b[38;5;124mInvalid input for linprog: A_ub must have exactly two \u001b[39m\u001b[38;5;124m\"\u001b[39m\n\u001b[0;32m    322\u001b[0m         \u001b[38;5;124m\"\u001b[39m\u001b[38;5;124mdimensions, and the number of columns in A_ub must be \u001b[39m\u001b[38;5;124m\"\u001b[39m\n\u001b[0;32m    323\u001b[0m         \u001b[38;5;124m\"\u001b[39m\u001b[38;5;124mequal to the size of c\u001b[39m\u001b[38;5;124m\"\u001b[39m)\n\u001b[0;32m    324\u001b[0m \u001b[38;5;28;01mif\u001b[39;00m (sps\u001b[38;5;241m.\u001b[39missparse(A_ub) \u001b[38;5;129;01mand\u001b[39;00m \u001b[38;5;129;01mnot\u001b[39;00m np\u001b[38;5;241m.\u001b[39misfinite(A_ub\u001b[38;5;241m.\u001b[39mdata)\u001b[38;5;241m.\u001b[39mall()\n\u001b[0;32m    325\u001b[0m         \u001b[38;5;129;01mor\u001b[39;00m \u001b[38;5;129;01mnot\u001b[39;00m sps\u001b[38;5;241m.\u001b[39missparse(A_ub) \u001b[38;5;129;01mand\u001b[39;00m \u001b[38;5;129;01mnot\u001b[39;00m np\u001b[38;5;241m.\u001b[39misfinite(A_ub)\u001b[38;5;241m.\u001b[39mall()):\n\u001b[0;32m    326\u001b[0m     \u001b[38;5;28;01mraise\u001b[39;00m \u001b[38;5;167;01mValueError\u001b[39;00m(\n\u001b[0;32m    327\u001b[0m         \u001b[38;5;124m\"\u001b[39m\u001b[38;5;124mInvalid input for linprog: A_ub must not contain values \u001b[39m\u001b[38;5;124m\"\u001b[39m\n\u001b[0;32m    328\u001b[0m         \u001b[38;5;124m\"\u001b[39m\u001b[38;5;124minf, nan, or None\u001b[39m\u001b[38;5;124m\"\u001b[39m)\n",
      "\u001b[1;31mValueError\u001b[0m: Invalid input for linprog: A_ub must have exactly two dimensions, and the number of columns in A_ub must be equal to the size of c"
     ]
    }
   ],
   "source": [
    "#solve the problem\n",
    "Result_opt=linprog(c_opt, A_ub=A, b_ub=b, bounds=(0, None), method='highs')"
   ]
  },
  {
   "cell_type": "code",
   "execution_count": 34,
   "id": "ff1af8fe-1953-425b-b4cb-3224060485bd",
   "metadata": {},
   "outputs": [
    {
     "ename": "NameError",
     "evalue": "name 'Result_opt' is not defined",
     "output_type": "error",
     "traceback": [
      "\u001b[1;31m---------------------------------------------------------------------------\u001b[0m",
      "\u001b[1;31mNameError\u001b[0m                                 Traceback (most recent call last)",
      "Cell \u001b[1;32mIn[34], line 1\u001b[0m\n\u001b[1;32m----> 1\u001b[0m Result_opt\n",
      "\u001b[1;31mNameError\u001b[0m: name 'Result_opt' is not defined"
     ]
    }
   ],
   "source": [
    "Result_opt"
   ]
  },
  {
   "cell_type": "code",
   "execution_count": 36,
   "id": "c0c96f73-5634-4264-a96b-a2e34636c716",
   "metadata": {},
   "outputs": [
    {
     "ename": "NameError",
     "evalue": "name 'Result_opt' is not defined",
     "output_type": "error",
     "traceback": [
      "\u001b[1;31m---------------------------------------------------------------------------\u001b[0m",
      "\u001b[1;31mNameError\u001b[0m                                 Traceback (most recent call last)",
      "Cell \u001b[1;32mIn[36], line 1\u001b[0m\n\u001b[1;32m----> 1\u001b[0m \u001b[38;5;28mprint\u001b[39m(\u001b[38;5;124m\"\u001b[39m\u001b[38;5;124mMinimum cost:\u001b[39m\u001b[38;5;124m\"\u001b[39m, \u001b[38;5;28mround\u001b[39m(Result_opt\u001b[38;5;241m.\u001b[39mfun))\n",
      "\u001b[1;31mNameError\u001b[0m: name 'Result_opt' is not defined"
     ]
    }
   ],
   "source": [
    "print(\"Minimum cost:\", round(Result_opt.fun))"
   ]
  },
  {
   "cell_type": "code",
   "execution_count": null,
   "id": "66612cd3-f0ef-4d90-9a76-fbcc70701baa",
   "metadata": {},
   "outputs": [],
   "source": [
    "print(\"unit of food A:\", round( Result_opt.x[0]))"
   ]
  },
  {
   "cell_type": "code",
   "execution_count": 37,
   "id": "6c1d9176-979e-4543-96ed-6d002ce43392",
   "metadata": {},
   "outputs": [
    {
     "ename": "NameError",
     "evalue": "name 'Result_opt' is not defined",
     "output_type": "error",
     "traceback": [
      "\u001b[1;31m---------------------------------------------------------------------------\u001b[0m",
      "\u001b[1;31mNameError\u001b[0m                                 Traceback (most recent call last)",
      "Cell \u001b[1;32mIn[37], line 1\u001b[0m\n\u001b[1;32m----> 1\u001b[0m \u001b[38;5;28mprint\u001b[39m(\u001b[38;5;124m\"\u001b[39m\u001b[38;5;124munit of food A:\u001b[39m\u001b[38;5;124m\"\u001b[39m, \u001b[38;5;28mround\u001b[39m( Result_opt\u001b[38;5;241m.\u001b[39mx[\u001b[38;5;241m1\u001b[39m]))\n",
      "\u001b[1;31mNameError\u001b[0m: name 'Result_opt' is not defined"
     ]
    }
   ],
   "source": [
    "print(\"unit of food A:\", round( Result_opt.x[1]))"
   ]
  },
  {
   "cell_type": "code",
   "execution_count": null,
   "id": "aa66095c-39e7-4ce7-976d-da63306c642f",
   "metadata": {},
   "outputs": [],
   "source": [
    "#objective function \n",
    "c_risk=[5,10]"
   ]
  },
  {
   "cell_type": "code",
   "execution_count": null,
   "id": "a6518133-ee31-403b-b5f1-10a0467bea2b",
   "metadata": {},
   "outputs": [],
   "source": [
    "#constraints\n",
    "A=[[-8,-12], # Return constraint\n",
    "   [1,1]] #Total Investment\n",
    "b=[-10000, 100000]"
   ]
  },
  {
   "cell_type": "code",
   "execution_count": null,
   "id": "1736ebdf-b70d-4dae-8cb4-fd997235a253",
   "metadata": {},
   "outputs": [],
   "source": [
    "Result_risk=linprog(c_risk, A_eq=A, b_eq=b, bounds=(0, None),method='highs')"
   ]
  },
  {
   "cell_type": "code",
   "execution_count": null,
   "id": "48788bcc-560e-4384-94e7-bdc3db7cee7c",
   "metadata": {},
   "outputs": [],
   "source": [
    "Result_risk"
   ]
  },
  {
   "cell_type": "code",
   "execution_count": null,
   "id": "907434f8-b88f-46df-9f7b-7e0140c57db0",
   "metadata": {},
   "outputs": [],
   "source": [
    "print(\"Minimum Risk:\", round(Result_risk.fun))"
   ]
  },
  {
   "cell_type": "code",
   "execution_count": null,
   "id": "b47dde3d-f6ba-499b-8a63-1054e0f51485",
   "metadata": {},
   "outputs": [],
   "source": [
    "print(\"Investments in Stock A :\", round(Result_risk.fun))"
   ]
  }
 ],
 "metadata": {
  "kernelspec": {
   "display_name": "Python 3 (ipykernel)",
   "language": "python",
   "name": "python3"
  },
  "language_info": {
   "codemirror_mode": {
    "name": "ipython",
    "version": 3
   },
   "file_extension": ".py",
   "mimetype": "text/x-python",
   "name": "python",
   "nbconvert_exporter": "python",
   "pygments_lexer": "ipython3",
   "version": "3.11.7"
  }
 },
 "nbformat": 4,
 "nbformat_minor": 5
}
