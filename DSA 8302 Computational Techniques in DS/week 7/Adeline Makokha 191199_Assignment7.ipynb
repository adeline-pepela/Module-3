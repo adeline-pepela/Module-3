{
 "cells": [
  {
   "cell_type": "markdown",
   "id": "2b606894-6c01-4d20-9566-d61935871c77",
   "metadata": {},
   "source": [
    "### Adeline Makokha\n",
    "### 191199\n",
    "### DSA 8302 Computational Techniques for Data Science\n",
    "### Assignment 7"
   ]
  },
  {
   "cell_type": "markdown",
   "id": "5969849f",
   "metadata": {},
   "source": [
    "### Question 1: Fibonacci Problem – Plant Branch Growth\n",
    "\n",
    "A rare plant grows in a Fibonacci-like pattern. The number of branches follows the sequence:\n",
    "- Cycle 1 → 1 branch  \n",
    "- Cycle 2 → 1 branch  \n",
    "- Cycle 3 → 2 branches  \n",
    "- Cycle 4 → 3 branches  \n",
    "\n",
    "\n",
    "**Task**: Find the total number of branches at cycle 12.\n"
   ]
  },
  {
   "cell_type": "code",
   "execution_count": 8,
   "id": "03518ac6",
   "metadata": {},
   "outputs": [
    {
     "data": {
      "text/plain": [
       "144"
      ]
     },
     "execution_count": 8,
     "metadata": {},
     "output_type": "execute_result"
    }
   ],
   "source": [
    "def fibonacci_branches(n):\n",
    "    if n <= 2:\n",
    "        return 1\n",
    "    fib = [0] * (n + 1)\n",
    "    fib[1], fib[2] = 1, 1\n",
    "    for i in range(3, n + 1):\n",
    "        fib[i] = fib[i - 1] + fib[i - 2]\n",
    "    return fib[n]\n",
    "\n",
    "# Calculate the number of branches at cycle 12\n",
    "fibonacci_branches(12)\n"
   ]
  },
  {
   "cell_type": "markdown",
   "id": "db5e24be",
   "metadata": {},
   "source": [
    "The plant's branch growth mimics the Fibonacci sequence. Using dynamic programming, the 12th term is calculated, \n",
    "which represents the number of branches after 12 growth cycles.\n"
   ]
  },
  {
   "cell_type": "markdown",
   "id": "f5e71e90",
   "metadata": {},
   "source": [
    "### Question 2: LIS Problem – Student Score Trends\n",
    "\n",
    "A student's test scores over a semester are:\n",
    "`[72, 74, 69, 78, 80, 81, 75, 85, 88, 70, 92]`\n",
    "\n",
    "**Task**: Find the length of the longest strictly increasing subsequence (LIS) of scores.\n"
   ]
  },
  {
   "cell_type": "code",
   "execution_count": 9,
   "id": "ff3b22c0",
   "metadata": {},
   "outputs": [
    {
     "data": {
      "text/plain": [
       "8"
      ]
     },
     "execution_count": 9,
     "metadata": {},
     "output_type": "execute_result"
    }
   ],
   "source": [
    "def longest_increasing_subsequence(scores):\n",
    "    n = len(scores)\n",
    "    lis = [1] * n\n",
    "    for i in range(1, n):\n",
    "        for j in range(i):\n",
    "            if scores[i] > scores[j]:\n",
    "                lis[i] = max(lis[i], lis[j] + 1)\n",
    "    return max(lis)\n",
    "\n",
    "scores = [72, 74, 69, 78, 80, 81, 75, 85, 88, 70, 92]\n",
    "longest_increasing_subsequence(scores)\n"
   ]
  },
  {
   "cell_type": "markdown",
   "id": "488700cc",
   "metadata": {},
   "source": [
    "This dynamic programming approach computes the LIS by tracking the maximum length of increasing subsequences ending at each index. \n",
    "The result is the length of the longest trend of improvement in the student's test scores.\n"
   ]
  },
  {
   "cell_type": "markdown",
   "id": "6ffd4803",
   "metadata": {},
   "source": [
    "### Question 3: Knapsack Problem – Server CPU Allocation\n",
    "\n",
    "You have 30 CPU units and a list of tasks:\n",
    "\n",
    "| Task | CPU | Reward |\n",
    "|------|-----|--------|\n",
    "| A    |  5  |   30   |\n",
    "| B    | 10  |   40   |\n",
    "| C    |  3  |   20   |\n",
    "| D    |  8  |   50   |\n",
    "| E    |  7  |   45   |\n",
    "| F    |  4  |   25   |\n",
    "| G    |  6  |   35   |\n",
    "\n",
    "**Task**: Choose a combination of tasks that maximizes the total reward without exceeding 30 CPU units.\n"
   ]
  },
  {
   "cell_type": "code",
   "execution_count": 10,
   "id": "e499fcb4",
   "metadata": {},
   "outputs": [
    {
     "data": {
      "text/plain": [
       "185"
      ]
     },
     "execution_count": 10,
     "metadata": {},
     "output_type": "execute_result"
    }
   ],
   "source": [
    "def knapsack(weights, values, capacity):\n",
    "    n = len(weights)\n",
    "    dp = [[0] * (capacity + 1) for _ in range(n + 1)]\n",
    "\n",
    "    for i in range(1, n + 1):\n",
    "        for w in range(capacity + 1):\n",
    "            if weights[i - 1] <= w:\n",
    "                dp[i][w] = max(dp[i - 1][w], values[i - 1] + dp[i - 1][w - weights[i - 1]])\n",
    "            else:\n",
    "                dp[i][w] = dp[i - 1][w]\n",
    "    return dp[n][capacity]\n",
    "\n",
    "weights = [5, 10, 3, 8, 7, 4, 6]\n",
    "rewards = [30, 40, 20, 50, 45, 25, 35]\n",
    "capacity = 30\n",
    "\n",
    "knapsack(weights, rewards, capacity)\n"
   ]
  },
  {
   "cell_type": "markdown",
   "id": "7ca0849b",
   "metadata": {},
   "source": [
    "This problem uses the 0/1 knapsack dynamic programming technique to maximize total reward from selected tasks. \n",
    "The solution ensures that the total CPU used does not exceed 30 units.\n"
   ]
  },
  {
   "cell_type": "code",
   "execution_count": null,
   "id": "9e70acbe-7cb3-478f-93eb-83a0e7890fd4",
   "metadata": {},
   "outputs": [],
   "source": []
  }
 ],
 "metadata": {
  "kernelspec": {
   "display_name": "Python 3 (ipykernel)",
   "language": "python",
   "name": "python3"
  },
  "language_info": {
   "codemirror_mode": {
    "name": "ipython",
    "version": 3
   },
   "file_extension": ".py",
   "mimetype": "text/x-python",
   "name": "python",
   "nbconvert_exporter": "python",
   "pygments_lexer": "ipython3",
   "version": "3.11.7"
  }
 },
 "nbformat": 4,
 "nbformat_minor": 5
}
