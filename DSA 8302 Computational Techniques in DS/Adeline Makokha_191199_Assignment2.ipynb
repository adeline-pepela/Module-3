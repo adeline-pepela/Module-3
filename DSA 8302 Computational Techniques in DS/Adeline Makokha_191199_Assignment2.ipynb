{
 "cells": [
  {
   "cell_type": "markdown",
   "id": "91e565db-5c97-4249-999e-3867c019b764",
   "metadata": {},
   "source": [
    "## ADELINE MAKOKHA\n",
    "### 191199\n",
    "#### ASSIGNMENT 2"
   ]
  },
  {
   "cell_type": "code",
   "execution_count": 2,
   "id": "5b08e9ce-95fb-4539-9c0f-71337616736e",
   "metadata": {},
   "outputs": [],
   "source": [
    "\n",
    "\n",
    "import numpy as np\n",
    "import matplotlib.pyplot as plt"
   ]
  },
  {
   "cell_type": "code",
   "execution_count": null,
   "id": "aad269a9-b136-4e8c-9a72-413c4165bd0a",
   "metadata": {},
   "outputs": [],
   "source": []
  },
  {
   "cell_type": "code",
   "execution_count": null,
   "id": "7ef60bd0-f7f8-4fd2-b4dd-4cfa09fcb555",
   "metadata": {},
   "outputs": [],
   "source": [
    "# Set random seed for reproducibility\n",
    "np.random.seed(42)\n",
    "\n",
    "# Parameters\n",
    "num_steps = 1000\n",
    "p_right = 0.85\n",
    "p_left = 1 - p_right\n",
    "num_simulations = 5\n",
    "\n",
    "# Function to simulate a biased random walk\n",
    "def simulate_biased_random_walk(num_steps, p_right):\n",
    "    # Generate random steps: 1 (right) with probability p_right, -1 (left) with probability 1-p_right\n",
    "    steps = np.where(np.random.random(num_steps) < p_right, 1, -1)\n",
    "    \n",
    "    # Calculate positions by cumulative sum of steps\n",
    "    positions = np.zeros(num_steps + 1)\n",
    "    positions[1:] = np.cumsum(steps)\n",
    "    \n",
    "    return positions\n",
    "\n",
    "# Run multiple simulations\n",
    "all_final_positions = []\n",
    "plt.figure(figsize=(10, 6))\n",
    "\n",
    "for i in range(num_simulations):\n",
    "    # Simulate random walk\n",
    "    positions = simulate_biased_random_walk(num_steps, p_right)\n",
    "    all_final_positions.append(positions[-1])\n",
    "    \n",
    "    # Plot the walk\n",
    "    plt.plot(range(num_steps + 1), positions, label=f'Simulation {i+1}')\n",
    "\n",
    "# Calculate statistics\n",
    "mean_final_position = np.mean(all_final_positions)\n",
    "std_final_position = np.std(all_final_positions)\n",
    "\n",
    "# Finalize the plot\n",
    "plt.xlabel('Time Steps')\n",
    "plt.ylabel('Position')\n",
    "plt.title(f'1D Random Walk with Right Bias (p={p_right})')\n",
    "plt.legend()\n",
    "plt.grid(True)\n",
    "\n",
    "# Print statistics\n",
    "print(f\"Final positions of the 5 simulations: {all_final_positions}\")\n",
    "print(f\"Mean final position: {mean_final_position:.2f}\")\n",
    "print(f\"Standard deviation of final position: {std_final_position:.2f}\")"
   ]
  }
 ],
 "metadata": {
  "kernelspec": {
   "display_name": "Python 3 (ipykernel)",
   "language": "python",
   "name": "python3"
  },
  "language_info": {
   "codemirror_mode": {
    "name": "ipython",
    "version": 3
   },
   "file_extension": ".py",
   "mimetype": "text/x-python",
   "name": "python",
   "nbconvert_exporter": "python",
   "pygments_lexer": "ipython3",
   "version": "3.11.7"
  }
 },
 "nbformat": 4,
 "nbformat_minor": 5
}
