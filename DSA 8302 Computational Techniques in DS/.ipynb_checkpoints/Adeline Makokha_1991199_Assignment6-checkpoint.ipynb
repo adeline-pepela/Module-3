{
 "cells": [
  {
   "cell_type": "markdown",
   "id": "aeb80a21",
   "metadata": {},
   "source": [
    "## Question 1: Graphical Method (2 Variables)\n",
    "**Problem:**\n",
    "A small workshop makes two types of furniture: chairs and tables.\n",
    "\n",
    "- Each chair requires 2 hours of carpentry and 1 hour of painting.\n",
    "- Each table requires 1 hour of carpentry and 1 hour of painting.\n",
    "- The workshop has 6 hours of carpentry time and 4 hours of painting time per day.\n",
    "- Each chair gives a profit of $30, each table $20.\n",
    "\n",
    "**Tasks:**\n",
    "- Formulate the problem as a linear program.\n",
    "- Plot the feasible region and determine the optimal number of chairs and tables to maximize profit."
   ]
  },
  {
   "cell_type": "code",
   "execution_count": null,
   "id": "050903d3",
   "metadata": {},
   "outputs": [],
   "source": [
    "# Plotting the feasible region and finding the optimal point\n",
    "import numpy as np\n",
    "import matplotlib.pyplot as plt\n",
    "\n",
    "# Constraints\n",
    "x = np.linspace(0, 10, 400)\n",
    "y1 = 6 - 2*x\n",
    "y2 = 4 - x\n",
    "\n",
    "# Feasible region\n",
    "plt.figure(figsize=(8, 6))\n",
    "plt.plot(x, y1, label='2x + y ≤ 6')\n",
    "plt.plot(x, y2, label='x + y ≤ 4')\n",
    "plt.fill_between(x, 0, np.minimum(y1, y2), where=(np.minimum(y1, y2)>=0), color='lightgray')\n",
    "plt.xlim(0, 5)\n",
    "plt.ylim(0, 5)\n",
    "plt.xlabel('Chairs (x)')\n",
    "plt.ylabel('Tables (y)')\n",
    "plt.legend()\n",
    "plt.grid(True)\n",
    "plt.title('Feasible Region')\n",
    "plt.show()"
   ]
  },
  {
   "cell_type": "code",
   "execution_count": null,
   "id": "8024b95e",
   "metadata": {},
   "outputs": [],
   "source": [
    "# Evaluate corner points manually\n",
    "points = [(0, 0), (0, 4), (2, 2), (3, 0)]\n",
    "profits = [30*x + 20*y for x, y in points]\n",
    "for point, profit in zip(points, profits):\n",
    "    print(f\"Point {point} gives a profit of ${profit}\")"
   ]
  },
  {
   "cell_type": "markdown",
   "id": "2b35a7d9",
   "metadata": {},
   "source": [
    "**Analysis:**\n",
    "- The feasible region is bounded by the constraints.\n",
    "- Evaluating the profit function at corner points, the point (2, 2) gives the maximum profit of $100.\n",
    "- **Optimal solution: Produce 2 chairs and 2 tables.**"
   ]
  },
  {
   "cell_type": "markdown",
   "id": "5d101457",
   "metadata": {},
   "source": [
    "## Question 2: Simplex Algorithm (via scipy.optimize.linprog)\n",
    "**Problem:**\n",
    "A factory produces products A, B, and C. Each uses machines M1 and M2:\n",
    "\n",
    "| Product | Profit | M1 Hours | M2 Hours |\n",
    "|---------|--------|----------|----------|\n",
    "| A       | $40    | 2        | 1        |\n",
    "| B       | $30    | 1        | 2        |\n",
    "| C       | $20    | 1        | 1        |\n",
    "\n",
    "- M1 available: 100 hrs/week\n",
    "- M2 available: 80 hrs/week\n",
    "\n",
    "**Task:** Use Simplex algorithm via scipy.optimize.linprog to determine optimal production."
   ]
  },
  {
   "cell_type": "code",
   "execution_count": null,
   "id": "c161e656",
   "metadata": {},
   "outputs": [],
   "source": [
    "from scipy.optimize import linprog\n",
    "\n",
    "c = [-40, -30, -20]  # Negated profits\n",
    "A = [\n",
    "    [2, 1, 1],  # M1 constraint\n",
    "    [1, 2, 1]   # M2 constraint\n",
    "]\n",
    "b = [100, 80]\n",
    "\n",
    "res = linprog(c, A_ub=A, b_ub=b, method='highs')\n",
    "res"
   ]
  },
  {
   "cell_type": "markdown",
   "id": "58b2f585",
   "metadata": {},
   "source": [
    "**Analysis:**\n",
    "- Optimal production is based on solving the LP.\n",
    "- The result provides number of units for A, B, and C to maximize profit.\n",
    "- Profit is calculated by negating the minimized objective value (`-res.fun`)."
   ]
  },
  {
   "cell_type": "markdown",
   "id": "5c67ffab",
   "metadata": {},
   "source": [
    "## Question 3: Transportation Method – Northwest Corner Rule\n",
    "**Problem:**\n",
    "Factories: S1 (30), S2 (40), S3 (20) units\n",
    "Demands: D1 (20), D2 (30), D3 (25), D4 (15) units\n",
    "Cost Matrix:\n",
    "\n",
    "|     | D1 | D2 | D3 | D4 |\n",
    "|-----|----|----|----|----|\n",
    "| S1  | 8  | 6  | 10 | 9  |\n",
    "| S2  | 9  | 7  | 4  | 2  |\n",
    "| S3  | 3  | 4  | 2  | 5  |\n",
    "\n",
    "**Task:** Use Northwest Corner Method to create allocation matrix and calculate total transportation cost."
   ]
  },
  {
   "cell_type": "code",
   "execution_count": null,
   "id": "9259fb1a",
   "metadata": {},
   "outputs": [],
   "source": [
    "import numpy as np\n",
    "import pandas as pd\n",
    "\n",
    "def northwest_corner_method(supply, demand):\n",
    "    supply = supply.copy()\n",
    "    demand = demand.copy()\n",
    "    allocation = np.zeros((len(supply), len(demand)))\n",
    "    i = 0\n",
    "    j = 0\n",
    "    while i < len(supply) and j < len(demand):\n",
    "        alloc = min(supply[i], demand[j])\n",
    "        allocation[i][j] = alloc\n",
    "        supply[i] -= alloc\n",
    "        demand[j] -= alloc\n",
    "        if supply[i] == 0:\n",
    "            i += 1\n",
    "        elif demand[j] == 0:\n",
    "            j += 1\n",
    "    return allocation\n",
    "\n",
    "supply = [30, 40, 20]\n",
    "demand = [20, 30, 25, 15]\n",
    "cost_matrix = np.array([\n",
    "    [8, 6, 10, 9],\n",
    "    [9, 7, 4, 2],\n",
    "    [3, 4, 2, 5]\n",
    "])\n",
    "\n",
    "allocation = northwest_corner_method(supply, demand)\n",
    "total_cost = np.sum(allocation * cost_matrix)\n",
    "\n",
    "df = pd.DataFrame(allocation, index=['S1', 'S2', 'S3'], columns=['D1', 'D2', 'D3', 'D4'])\n",
    "display(df)\n",
    "print(f\"Total Transportation Cost: ${total_cost}\")"
   ]
  },
  {
   "cell_type": "markdown",
   "id": "0fc772c1",
   "metadata": {},
   "source": [
    "**Analysis:**\n",
    "- The Northwest Corner Method gives a basic feasible solution (not necessarily optimal).\n",
    "- The total transportation cost was calculated by summing all allocations * unit cost.\n",
    "- This can be improved using optimization methods (e.g., MODI or VAM)."
   ]
  }
 ],
 "metadata": {},
 "nbformat": 4,
 "nbformat_minor": 5
}
