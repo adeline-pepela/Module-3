{
 "cells": [
  {
   "cell_type": "markdown",
   "metadata": {},
   "source": [
    "# Week 9 Assignment – Simulation Solutions"
   ]
  },
  {
   "cell_type": "markdown",
   "metadata": {},
   "source": [
    "### Adeline Makokha\n",
    "### 191199\n",
    "### DSA 8302 Computational Techniques for Data Science\n",
    "### Assignment 9"
   ]
  },
  {
   "cell_type": "markdown",
   "metadata": {},
   "source": [
    "## Question 1: Estimating π with Random Sampling\n",
    "Estimate π using Monte Carlo simulation by generating 100,000 random points in the unit square. Repeat the simulation 10 times and compare the estimates to the actual value of π."
   ]
  },
  {
   "cell_type": "code",
   "execution_count": 7,
   "metadata": {},
   "outputs": [
    {
     "name": "stdout",
     "output_type": "stream",
     "text": [
      "Run 1: π estimate = 3.133040, error = -0.008553\n",
      "Run 2: π estimate = 3.153680, error = 0.012087\n",
      "Run 3: π estimate = 3.137720, error = -0.003873\n",
      "Run 4: π estimate = 3.136080, error = -0.005513\n",
      "Run 5: π estimate = 3.135840, error = -0.005753\n",
      "Run 6: π estimate = 3.149280, error = 0.007687\n",
      "Run 7: π estimate = 3.139840, error = -0.001753\n",
      "Run 8: π estimate = 3.140840, error = -0.000753\n",
      "Run 9: π estimate = 3.142360, error = 0.000767\n",
      "Run 10: π estimate = 3.140680, error = -0.000913\n"
     ]
    }
   ],
   "source": [
    "import numpy as np\n",
    "import math\n",
    "\n",
    "np.random.seed(0)  # Seed for reproducibility\n",
    "\n",
    "N = 100000  # number of random points per run\n",
    "for run in range(1, 11):\n",
    "    # Generate N random (x, y) points in the unit square\n",
    "    points = np.random.rand(N, 2)  \n",
    "    # Count how many points fall inside the quarter-circle (x^2 + y^2 <= 1)\n",
    "    inside_count = np.sum(np.sum(points**2, axis=1) <= 1)\n",
    "    # Monte Carlo estimate of π (area_ratio * 4)\n",
    "    pi_estimate = 4 * inside_count / N\n",
    "    error = pi_estimate - math.pi\n",
    "    print(f\"Run {run}: π estimate = {pi_estimate:.6f}, error = {error:.6f}\")"
   ]
  },
  {
   "cell_type": "markdown",
   "metadata": {},
   "source": [
    "### Explanation:\n",
    "This simulates random points within a unit square and counts how many fall within a quarter circle of radius 1. The ratio of points inside the circle to total points approximates π/4, hence multiplying by 4 estimates π."
   ]
  },
  {
   "cell_type": "markdown",
   "metadata": {},
   "source": [
    "## Question 2: Estimating the Mean of a Normal Distribution\n",
    "Simulate 1,000 samples, each of size 50, from a normal distribution with mean μ = 10 and standard deviation σ = 2. Plot the distribution of the sample means and compute their overall average and standard deviation."
   ]
  },
  {
   "cell_type": "code",
   "execution_count": 8,
   "metadata": {},
   "outputs": [
    {
     "name": "stdout",
     "output_type": "stream",
     "text": [
      "Average of sample means = 9.992\n",
      "Standard deviation of sample means = 0.290\n"
     ]
    }
   ],
   "source": [
    "import matplotlib.pyplot as plt\n",
    "\n",
    "np.random.seed(0)\n",
    "mu, sigma = 10, 2\n",
    "num_samples = 1000\n",
    "sample_size = 50\n",
    "means = []\n",
    "\n",
    "for _ in range(num_samples):\n",
    "    sample = np.random.normal(mu, sigma, sample_size)\n",
    "    means.append(sample.mean())\n",
    "\n",
    "means = np.array(means)\n",
    "avg_of_means = means.mean()\n",
    "std_of_means = means.std()\n",
    "print(f\"Average of sample means = {avg_of_means:.3f}\")\n",
    "print(f\"Standard deviation of sample means = {std_of_means:.3f}\")\n",
    "\n"
   ]
  },
  {
   "cell_type": "code",
   "execution_count": 9,
   "metadata": {},
   "outputs": [
    {
     "data": {
      "image/png": "[encoded data removed]",
      "text/plain": [
       "<Figure size 600x400 with 1 Axes>"
      ]
     },
     "metadata": {},
     "output_type": "display_data"
    }
   ],
   "source": [
    "plt.figure(figsize=(6,4))\n",
    "plt.hist(means, bins=30, color='skyblue', edgecolor='black', density=True)\n",
    "plt.axvline(avg_of_means, color='red', linestyle='--', linewidth=2, label=f\"Mean = {avg_of_means:.2f}\")\n",
    "plt.title(\"Distribution of Sample Means (1000 samples of size 50)\")\n",
    "plt.xlabel(\"Sample mean value\")\n",
    "plt.ylabel(\"Density\")\n",
    "plt.legend()\n",
    "plt.show()"
   ]
  },
  {
   "cell_type": "markdown",
   "metadata": {},
   "source": [
    "### Explanation:\n",
    "This generates multiple samples from a normal distribution and calculates the mean for each sample. The distribution of these sample means is then plotted. The distribution of sample means should be approximately normal."
   ]
  },
  {
   "cell_type": "markdown",
   "metadata": {},
   "source": [
    "## Question 3: Estimating Dice Probability\n",
    "Use simulation to estimate the probability that the sum of two fair six-sided dice is greater than 9. Compare the result to the theoretical probability."
   ]
  },
  {
   "cell_type": "code",
   "execution_count": 10,
   "metadata": {},
   "outputs": [
    {
     "name": "stdout",
     "output_type": "stream",
     "text": [
      "Estimated P(sum > 9) from 100000 simulations: 0.16810\n",
      "Theoretical P(sum > 9): 0.16667\n",
      "Absolute difference: 0.00143\n"
     ]
    }
   ],
   "source": [
    "np.random.seed(0)\n",
    "\n",
    "trials = 100000\n",
    "die1 = np.random.randint(1, 7, size=trials)\n",
    "die2 = np.random.randint(1, 7, size=trials)\n",
    "sums = die1 + die2\n",
    "estimated_prob = np.mean(sums > 9)\n",
    "print(f\"Estimated P(sum > 9) from {trials} simulations: {estimated_prob:.5f}\")\n",
    "\n",
    "# Theoretical probability\n",
    "favorable = sum(1 for a in range(1, 7) for b in range(1, 7) if a + b > 9)\n",
    "theoretical_prob = favorable / 36\n",
    "print(f\"Theoretical P(sum > 9): {theoretical_prob:.5f}\")\n",
    "print(f\"Absolute difference: {abs(estimated_prob - theoretical_prob):.5f}\")"
   ]
  },
  {
   "cell_type": "markdown",
   "metadata": {},
   "source": [
    "### Explanation:\n",
    "This simulates rolling two dice 100,000 times and estimates the probability that the sum is greater than 9. It also calculates the theoretical probability by counting favorable outcomes."
   ]
  },
  {
   "cell_type": "code",
   "execution_count": null,
   "metadata": {},
   "outputs": [],
   "source": []
  }
 ],
 "metadata": {
  "kernelspec": {
   "display_name": "Python 3 (ipykernel)",
   "language": "python",
   "name": "python3"
  },
  "language_info": {
   "codemirror_mode": {
    "name": "ipython",
    "version": 3
   },
   "file_extension": ".py",
   "mimetype": "text/x-python",
   "name": "python",
   "nbconvert_exporter": "python",
   "pygments_lexer": "ipython3",
   "version": "3.11.7"
  }
 },
 "nbformat": 4,
 "nbformat_minor": 4
}
