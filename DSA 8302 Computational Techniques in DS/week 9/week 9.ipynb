{
 "cells": [
  {
   "cell_type": "code",
   "execution_count": 1,
   "id": "189a072d-ac5c-4683-90b3-43ed10c2fa5a",
   "metadata": {},
   "outputs": [],
   "source": [
    "import random\n",
    "import matplotlib.pyplot as plt"
   ]
  },
  {
   "cell_type": "code",
   "execution_count": 2,
   "id": "3245378c-3b47-4741-b76b-a37bad03c281",
   "metadata": {},
   "outputs": [],
   "source": [
    "N= 10000\n",
    "inside_circle = 0\n",
    "x_in, y_in = [],[]\n",
    "x_out, y_out = [],[]"
   ]
  },
  {
   "cell_type": "code",
   "execution_count": null,
   "id": "7abb319b-e044-42a3-a7fe-ba12c0882978",
   "metadata": {},
   "outputs": [],
   "source": [
    "for _ in range(N):\n",
    "    x, y = random.random(), random.random()\n",
    "    if x**2 + y**2 <= 1:\n",
    "        inside"
   ]
  },
  {
   "cell_type": "code",
   "execution_count": null,
   "id": "b2851e01-c22d-4b28-a21a-950cf46ab83c",
   "metadata": {},
   "outputs": [],
   "source": [
    "plt.scatter(x_out, y_out, color='red', s=1, label='Outside Circle')\n",
    "plt.legend()\n",
    "plt.title(f"
   ]
  },
  {
   "cell_type": "code",
   "execution_count": null,
   "id": "2ad877bc-a2fc-43b3-96a1-6b7340f1621c",
   "metadata": {},
   "outputs": [],
   "source": [
    "#sample to approxima\n"
   ]
  }
 ],
 "metadata": {
  "kernelspec": {
   "display_name": "Python 3 (ipykernel)",
   "language": "python",
   "name": "python3"
  },
  "language_info": {
   "codemirror_mode": {
    "name": "ipython",
    "version": 3
   },
   "file_extension": ".py",
   "mimetype": "text/x-python",
   "name": "python",
   "nbconvert_exporter": "python",
   "pygments_lexer": "ipython3",
   "version": "3.11.7"
  }
 },
 "nbformat": 4,
 "nbformat_minor": 5
}
