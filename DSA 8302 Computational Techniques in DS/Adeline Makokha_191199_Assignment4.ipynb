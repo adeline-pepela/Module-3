{
 "cells": [
  {
   "cell_type": "markdown",
   "id": "aa9df1ac-21c6-4379-9fba-bb8d4938f3cf",
   "metadata": {},
   "source": [
    "### Adeline Makokha\n",
    "### 191199\n",
    "### DSA 8302 Computational Techniques for Data Science\n",
    "### Assignment 4"
   ]
  },
  {
   "cell_type": "markdown",
   "id": "b82fbfd3-6fd0-4a51-a0f6-ad17355acd37",
   "metadata": {},
   "source": [
    "### Question 1: Shortest Path in a Road Network (Dijkstra’s Algorithm)\n",
    "A logistics company called Home Logistics wants to determine the most efficient route between two cities in a given road network. The network is represented as a graph where cities are nodes and roads are edges with weights corresponding to the travel distance (in kilometers). Given the following graph representation of a road network, write a Python program using Dijkstra’s Algorithm to find the shortest path from City A to City F.E': 4}\r\n",
    "}"
   ]
  },
  {
   "cell_type": "code",
   "execution_count": 11,
   "id": "6e98b107-d17b-4550-bbf8-7b14646e2046",
   "metadata": {},
   "outputs": [],
   "source": [
    "#Graph Data (as adjacency list):\n",
    "roads = {\n",
    "    'A': {'B': 4, 'C': 2},\n",
    "    'B': {'A': 4, 'C': 5, 'D': 10},\n",
    "    'C': {'A': 2, 'B': 5, 'D': 3, 'E': 8},\n",
    "    'D': {'B': 10, 'C': 3, 'E': 6, 'F': 2},\n",
    "    'E': {'C': 8, 'D': 6, 'F': 4},\n",
    "    'F': {'D': 2, 'E': 4}\n",
    "}"
   ]
  },
  {
   "cell_type": "code",
   "execution_count": 12,
   "id": "6a646547-3fba-4464-8ce0-6fa394db84b4",
   "metadata": {},
   "outputs": [],
   "source": [
    "#import necessary libraries \n",
    "import numpy as np\n",
    "import heapq\n",
    "from collections import defaultdict, deque\n"
   ]
  },
  {
   "cell_type": "code",
   "execution_count": 13,
   "id": "45900ddc-a491-4e24-af0d-748d3fe1ecb5",
   "metadata": {},
   "outputs": [],
   "source": [
    "def dijkstra(graph, start, end):\n",
    "    # Initialize distances with infinity for all nodes except the start node\n",
    "    distances = {node: float('infinity') for node in graph}\n",
    "    distances[start] = 0\n",
    "    \n",
    "    # Priority queue to keep track of nodes to visit\n",
    "    priority_queue = [(0, start)]\n",
    "    \n",
    "    # To keep track of the path\n",
    "    previous = {node: None for node in graph}\n",
    "    \n",
    "    while priority_queue:\n",
    "        current_distance, current_node = heapq.heappop(priority_queue)\n",
    "        \n",
    "        # If we've reached the destination, we're done\n",
    "        if current_node == end:\n",
    "            break\n",
    "        \n",
    "        # If we've already found a shorter path to the current node, skip it\n",
    "        if current_distance > distances[current_node]:\n",
    "            continue\n",
    "        \n",
    "        # Check all neighbors of the current node\n",
    "        for neighbor, weight in graph[current_node].items():\n",
    "            distance = current_distance + weight\n",
    "            \n",
    "            # If we found a shorter path to the neighbor, update it\n",
    "            if distance < distances[neighbor]:\n",
    "                distances[neighbor] = distance\n",
    "                previous[neighbor] = current_node\n",
    "                heapq.heappush(priority_queue, (distance, neighbor))\n",
    "    \n",
    "    # Reconstruct the path\n",
    "    path = []\n",
    "    current = end\n",
    "    while current:\n",
    "        path.append(current)\n",
    "        current = previous[current]\n",
    "    \n",
    "    # Return the path in the correct order (start to end)\n",
    "    return path[::-1], distances[end]\n",
    "\n"
   ]
  },
  {
   "cell_type": "code",
   "execution_count": 14,
   "id": "545039df-0649-4b51-bfda-7d3e7702ee73",
   "metadata": {},
   "outputs": [
    {
     "name": "stdout",
     "output_type": "stream",
     "text": [
      "Shortest path from A to F: A -> C -> D -> F\n",
      "Total distance: 7 kilometers\n"
     ]
    }
   ],
   "source": [
    "# Graph representation of the road network\n",
    "roads = {\n",
    "    'A': {'B': 4, 'C': 2},\n",
    "    'B': {'A': 4, 'C': 5, 'D': 10},\n",
    "    'C': {'A': 2, 'B': 5, 'D': 3, 'E': 8},\n",
    "    'D': {'B': 10, 'C': 3, 'E': 6, 'F': 2},\n",
    "    'E': {'C': 8, 'D': 6, 'F': 4},\n",
    "    'F': {'D': 2, 'E': 4}\n",
    "}\n",
    "\n",
    "# Find the shortest path from City A to City F\n",
    "shortest_path, total_distance = dijkstra(roads, 'A', 'F')\n",
    "\n",
    "print(f\"Shortest path from A to F: {' -> '.join(shortest_path)}\")\n",
    "print(f\"Total distance: {total_distance} kilometers\")"
   ]
  },
  {
   "cell_type": "markdown",
   "id": "a04604e2-5dca-4e87-a328-18f4df7b52c1",
   "metadata": {},
   "source": [
    "The Dijkstra's algorithm is used with a priority queue to efficiently find the shortest path from City A to City F.\n"
   ]
  },
  {
   "cell_type": "markdown",
   "id": "8ef4a443-4c36-403f-a4d4-312a4d687329",
   "metadata": {},
   "source": [
    "### Question 2: Influence Analysis in a Social Network (PageRank Algorithm)\n",
    "A social media platform wants to identify the most influential users based on follower relationships. The network is represented as a directed graph, where each user is a node, and an edge from user A to user B means that A follows B. Given the following directed graph of follower relationships, implement a Python program using the PageRank algorithm to rank users by influence.ial user."
   ]
  },
  {
   "cell_type": "code",
   "execution_count": 15,
   "id": "60b0c842-2f06-4394-95d2-716bcbc249b2",
   "metadata": {},
   "outputs": [],
   "source": [
    "#Graph Representation:\n",
    "followers = {\n",
    "    'Alice': ['Bob', 'Charlie'],\n",
    "    'Bob': ['Charlie', 'David'],\n",
    "    'Charlie': ['David'],\n",
    "    'David': ['Alice'],\n",
    "    'Eve': ['Alice', 'Charlie']\n",
    "}"
   ]
  },
  {
   "cell_type": "markdown",
   "id": "fdb1d4cb-eed6-4e02-b825-2aeff7b4481f",
   "metadata": {},
   "source": [
    "Compute the PageRank scores and determine the most influential user."
   ]
  },
  {
   "cell_type": "code",
   "execution_count": 16,
   "id": "dd3756a7-54dd-4d5d-9fe9-ec55a4f91b5a",
   "metadata": {},
   "outputs": [
    {
     "name": "stdout",
     "output_type": "stream",
     "text": [
      "PageRank scores (higher is more influential):\n",
      "David: 0.292620\n",
      "Alice: 0.291477\n",
      "Charlie: 0.232026\n",
      "Bob: 0.153878\n",
      "Eve: 0.030000\n",
      "\n",
      "Most influential user is: David\n"
     ]
    }
   ],
   "source": [
    "def page_rank(graph, damping=0.85, iterations=100, tolerance=1e-6):\n",
    "    # Convert the followers representation to a more usable format\n",
    "    nodes = set()\n",
    "    for node, followers in graph.items():\n",
    "        nodes.add(node)\n",
    "        for follower in followers:\n",
    "            nodes.add(follower)\n",
    "    \n",
    "    # Initialize PageRank scores\n",
    "    ranks = {node: 1/len(nodes) for node in nodes}\n",
    "    \n",
    "    # Create a reverse graph (who follows whom)\n",
    "    reverse_graph = {node: [] for node in nodes}\n",
    "    for node, followers in graph.items():\n",
    "        for follower in followers:\n",
    "            reverse_graph[follower].append(node)\n",
    "    \n",
    "    # Create outgoing links count\n",
    "    outgoing_count = {node: len(followers) for node, followers in graph.items()}\n",
    "    \n",
    "    # Iteratively update PageRank scores\n",
    "    for _ in range(iterations):\n",
    "        new_ranks = {node: (1 - damping) / len(nodes) for node in nodes}\n",
    "        \n",
    "        for node in nodes:\n",
    "            # For each node that has an edge to this node\n",
    "            for incoming in reverse_graph[node]:\n",
    "                # Add the contribution from the incoming node\n",
    "                if outgoing_count[incoming] > 0:\n",
    "                    new_ranks[node] += damping * ranks[incoming] / outgoing_count[incoming]\n",
    "        \n",
    "        # Check for convergence\n",
    "        diff = sum(abs(new_ranks[node] - ranks[node]) for node in nodes)\n",
    "        if diff < tolerance:\n",
    "            break\n",
    "        \n",
    "        ranks = new_ranks\n",
    "    \n",
    "    return ranks\n",
    "\n",
    "# Graph representation of follower relationships\n",
    "followers = {\n",
    "    'Alice': ['Bob', 'Charlie'],\n",
    "    'Bob': ['Charlie', 'David'],\n",
    "    'Charlie': ['David'],\n",
    "    'David': ['Alice'],\n",
    "    'Eve': ['Alice', 'Charlie']\n",
    "}\n",
    "\n",
    "# Calculate PageRank scores\n",
    "page_rank_scores = page_rank(followers)\n",
    "\n",
    "# Sort users by their PageRank scores\n",
    "sorted_scores = sorted(page_rank_scores.items(), key=lambda x: x[1], reverse=True)\n",
    "\n",
    "print(\"PageRank scores (higher is more influential):\")\n",
    "for user, score in sorted_scores:\n",
    "    print(f\"{user}: {score:.6f}\")\n",
    "\n",
    "print(f\"\\nMost influential user is: {sorted_scores[0][0]}\")"
   ]
  },
  {
   "cell_type": "markdown",
   "id": "08c9ef6b-88a6-4b2d-83ec-50dd3fc78576",
   "metadata": {},
   "source": [
    "The PageRank algorithm is implemented to calculate the influence scores of each user based on the follower relationships.\n"
   ]
  },
  {
   "cell_type": "markdown",
   "id": "b7bffa1b-8130-474a-a840-7da8f1a26aa3",
   "metadata": {},
   "source": [
    "### Question 3: Maximum Flow in a Water Distribution System (Ford-Fulkerson Algorithm)\n",
    "A city’s water supply system consists of reservoirs, pipelines, and distribution points. The system is represented as a directed graph, where nodes represent junctions (reservoirs or city areas) and edges represent water pipelines with capacity limits. Given the following network, where the source is S (reservoir) and the sink is T (city distribution center), use the Ford-Fulkerson algorithm to determine the maximum amount of water that can be transported to the city.\r",
    ":\r\n",
    "water_network = {\r\n",
    "'S': {'A': 16, 'B': 13},\r\n",
    "'A': {'B': 10, 'C': 12},\r\n",
    "'B': {'D': 14},\r\n",
    "'C': {'B': 9, 'T': 20},\r\n",
    "'D': {'C': 7, 'T': 4},\r\n",
    "'Tom S to T."
   ]
  },
  {
   "cell_type": "code",
   "execution_count": 17,
   "id": "114a1c08-6718-4f29-b976-ee3595cda80e",
   "metadata": {},
   "outputs": [],
   "source": [
    "#Graph Representation (with capacities):\n",
    "water_network = {\n",
    "    'S': {'A': 16, 'B': 13},\n",
    "    'A': {'B': 10, 'C': 12},\n",
    "    'B': {'D': 14},\n",
    "    'C': {'B': 9, 'T': 20},\n",
    "    'D': {'C': 7, 'T': 4},\n",
    "    'T': {}\n",
    "}"
   ]
  },
  {
   "cell_type": "markdown",
   "id": "1cde37ec-7ce2-47c1-99f7-97b7ab1698c1",
   "metadata": {},
   "source": [
    "Write a Python program to compute the maximum flow from S to T."
   ]
  },
  {
   "cell_type": "code",
   "execution_count": 18,
   "id": "47bf831a-0891-4c63-b172-3a6df19388fe",
   "metadata": {},
   "outputs": [
    {
     "name": "stdout",
     "output_type": "stream",
     "text": [
      "Maximum flow from S to T: 23 units\n"
     ]
    }
   ],
   "source": [
    "\n",
    "\n",
    "def ford_fulkerson(graph, source, sink):\n",
    "    # Create a residual graph\n",
    "    residual_graph = {u: {v: graph[u][v] for v in graph[u]} for u in graph}\n",
    "    for u in graph:\n",
    "        for v in graph[u]:\n",
    "            if u not in residual_graph.get(v, {}):\n",
    "                if v not in residual_graph:\n",
    "                    residual_graph[v] = {}\n",
    "                residual_graph[v][u] = 0\n",
    "    \n",
    "    # Keep track of the maximum flow\n",
    "    max_flow = 0\n",
    "    \n",
    "    # While there is an augmenting path\n",
    "    while True:\n",
    "        # Use BFS to find an augmenting path\n",
    "        path, flow = bfs_augmenting_path(residual_graph, source, sink)\n",
    "        \n",
    "        if not path:\n",
    "            # No augmenting path exists, we're done\n",
    "            break\n",
    "        \n",
    "        # Update the residual graph and add to the maximum flow\n",
    "        max_flow += flow\n",
    "        \n",
    "        # Update the residual capacities\n",
    "        v = sink\n",
    "        for u in reversed(path[:-1]):\n",
    "            residual_graph[u][v] -= flow\n",
    "            residual_graph[v][u] += flow\n",
    "            v = u\n",
    "    \n",
    "    return max_flow\n",
    "\n",
    "def bfs_augmenting_path(graph, source, sink):\n",
    "    visited = {source: [source]}\n",
    "    queue = deque([source])\n",
    "    \n",
    "    # Keep track of the bottleneck capacity\n",
    "    capacities = {source: float('infinity')}\n",
    "    \n",
    "    while queue:\n",
    "        u = queue.popleft()\n",
    "        \n",
    "        for v, capacity in graph[u].items():\n",
    "            if capacity > 0 and v not in visited:\n",
    "                visited[v] = visited[u] + [v]\n",
    "                capacities[v] = min(capacities[u], capacity)\n",
    "                \n",
    "                if v == sink:\n",
    "                    return visited[v], capacities[v]\n",
    "                \n",
    "                queue.append(v)\n",
    "    \n",
    "    # No augmenting path found\n",
    "    return None, 0\n",
    "\n",
    "# Graph representation of the water network with capacities\n",
    "water_network = {\n",
    "    'S': {'A': 16, 'B': 13},\n",
    "    'A': {'B': 10, 'C': 12},\n",
    "    'B': {'D': 14},\n",
    "    'C': {'B': 9, 'T': 20},\n",
    "    'D': {'C': 7, 'T': 4},\n",
    "    'T': {}\n",
    "}\n",
    "\n",
    "# Calculate the maximum flow\n",
    "max_flow = ford_fulkerson(water_network, 'S', 'T')\n",
    "\n",
    "print(f\"Maximum flow from S to T: {max_flow} units\")"
   ]
  },
  {
   "cell_type": "markdown",
   "id": "50407eb7-bb1c-4802-8729-4ff178b74b7c",
   "metadata": {},
   "source": [
    "Ford-Fulkerson algorithm is used with BFS to find augmenting paths and calculate the maximum flow from source S to sink T."
   ]
  },
  {
   "cell_type": "code",
   "execution_count": null,
   "id": "0e2f2902-ec0a-46a5-bf42-a6fd0e2efe88",
   "metadata": {},
   "outputs": [],
   "source": []
  }
 ],
 "metadata": {
  "kernelspec": {
   "display_name": "Python 3 (ipykernel)",
   "language": "python",
   "name": "python3"
  },
  "language_info": {
   "codemirror_mode": {
    "name": "ipython",
    "version": 3
   },
   "file_extension": ".py",
   "mimetype": "text/x-python",
   "name": "python",
   "nbconvert_exporter": "python",
   "pygments_lexer": "ipython3",
   "version": "3.11.7"
  }
 },
 "nbformat": 4,
 "nbformat_minor": 5
}
